{
  "nbformat": 4,
  "nbformat_minor": 0,
  "metadata": {
    "colab": {
      "name": "mt2_prototype_v1_0_0.ipynb",
      "provenance": []
    },
    "kernelspec": {
      "name": "python3",
      "display_name": "Python 3"
    }
  },
  "cells": [
    {
      "cell_type": "code",
      "metadata": {
        "id": "HDM1L0DB5Gun",
        "colab": {
          "base_uri": "https://localhost:8080/"
        },
        "outputId": "84bec4dd-54b6-4e3b-81e5-fe8bf3053251"
      },
      "source": [
        "!pip install uproot3\r\n",
        "!pip install uproot_methods\r\n",
        "!pip install mplhep\r\n",
        "!pip install awkward"
      ],
      "execution_count": 1,
      "outputs": [
        {
          "output_type": "stream",
          "text": [
            "Collecting uproot3\n",
            "\u001b[?25l  Downloading https://files.pythonhosted.org/packages/ae/30/75d3ecda0d09f5aed7588f545798bea92e88f8f241218d9f2df612600df8/uproot3-3.14.2-py3-none-any.whl (117kB)\n",
            "\r\u001b[K     |██▉                             | 10kB 17.0MB/s eta 0:00:01\r\u001b[K     |█████▋                          | 20kB 15.6MB/s eta 0:00:01\r\u001b[K     |████████▍                       | 30kB 10.2MB/s eta 0:00:01\r\u001b[K     |███████████▏                    | 40kB 8.6MB/s eta 0:00:01\r\u001b[K     |██████████████                  | 51kB 5.3MB/s eta 0:00:01\r\u001b[K     |████████████████▊               | 61kB 6.1MB/s eta 0:00:01\r\u001b[K     |███████████████████▌            | 71kB 6.1MB/s eta 0:00:01\r\u001b[K     |██████████████████████▎         | 81kB 6.2MB/s eta 0:00:01\r\u001b[K     |█████████████████████████       | 92kB 6.7MB/s eta 0:00:01\r\u001b[K     |███████████████████████████▉    | 102kB 6.5MB/s eta 0:00:01\r\u001b[K     |██████████████████████████████▋ | 112kB 6.5MB/s eta 0:00:01\r\u001b[K     |████████████████████████████████| 122kB 6.5MB/s \n",
            "\u001b[?25hCollecting uproot3-methods\n",
            "  Downloading https://files.pythonhosted.org/packages/b7/bc/0cc6e815361218923dc27e8f511036d6d96ab366ea25994a89ac9ac9ba6f/uproot3_methods-0.10.0-py3-none-any.whl\n",
            "Requirement already satisfied: cachetools in /usr/local/lib/python3.6/dist-packages (from uproot3) (4.2.0)\n",
            "Requirement already satisfied: numpy>=1.13.1 in /usr/local/lib/python3.6/dist-packages (from uproot3) (1.19.5)\n",
            "Collecting awkward0\n",
            "\u001b[?25l  Downloading https://files.pythonhosted.org/packages/9f/2a/bea4f48fe068163dae7c086d7c16a88a56264acd6ac66a0c737d90840ecb/awkward0-0.15.3-py3-none-any.whl (87kB)\n",
            "\u001b[K     |████████████████████████████████| 92kB 5.1MB/s \n",
            "\u001b[?25hInstalling collected packages: awkward0, uproot3-methods, uproot3\n",
            "Successfully installed awkward0-0.15.3 uproot3-3.14.2 uproot3-methods-0.10.0\n",
            "Collecting uproot_methods\n",
            "  Downloading https://files.pythonhosted.org/packages/b8/30/adff74a02641901dfaad01e8ad66abcf43e94fc72661ef1ee4e55a5162b5/uproot_methods-0.9.2-py3-none-any.whl\n",
            "Requirement already satisfied: numpy>=1.13.1 in /usr/local/lib/python3.6/dist-packages (from uproot_methods) (1.19.5)\n",
            "Collecting awkward<1.0.0\n",
            "\u001b[?25l  Downloading https://files.pythonhosted.org/packages/4b/ca/322dd25b102b03a0d8fefba037358a716e7ba2117b65839479071445a617/awkward-0.14.0-py2.py3-none-any.whl (87kB)\n",
            "\u001b[K     |████████████████████████████████| 92kB 4.9MB/s \n",
            "\u001b[?25hInstalling collected packages: awkward, uproot-methods\n",
            "Successfully installed awkward-0.14.0 uproot-methods-0.9.2\n",
            "Collecting mplhep\n",
            "\u001b[?25l  Downloading https://files.pythonhosted.org/packages/26/ed/7630678155ea92e97eb786f90dcee74af4ef00898ca84ce922ea3a53e459/mplhep-0.2.12-py3-none-any.whl (5.4MB)\n",
            "\u001b[K     |████████████████████████████████| 5.4MB 5.3MB/s \n",
            "\u001b[?25hRequirement already satisfied: packaging in /usr/local/lib/python3.6/dist-packages (from mplhep) (20.8)\n",
            "Requirement already satisfied: matplotlib>=3.1 in /usr/local/lib/python3.6/dist-packages (from mplhep) (3.2.2)\n",
            "Requirement already satisfied: numpy>=1.16.0 in /usr/local/lib/python3.6/dist-packages (from mplhep) (1.19.5)\n",
            "Requirement already satisfied: scipy>=1.1.0 in /usr/local/lib/python3.6/dist-packages (from mplhep) (1.4.1)\n",
            "Requirement already satisfied: requests~=2.21 in /usr/local/lib/python3.6/dist-packages (from mplhep) (2.23.0)\n",
            "Requirement already satisfied: pyparsing>=2.0.2 in /usr/local/lib/python3.6/dist-packages (from packaging->mplhep) (2.4.7)\n",
            "Requirement already satisfied: cycler>=0.10 in /usr/local/lib/python3.6/dist-packages (from matplotlib>=3.1->mplhep) (0.10.0)\n",
            "Requirement already satisfied: python-dateutil>=2.1 in /usr/local/lib/python3.6/dist-packages (from matplotlib>=3.1->mplhep) (2.8.1)\n",
            "Requirement already satisfied: kiwisolver>=1.0.1 in /usr/local/lib/python3.6/dist-packages (from matplotlib>=3.1->mplhep) (1.3.1)\n",
            "Requirement already satisfied: urllib3!=1.25.0,!=1.25.1,<1.26,>=1.21.1 in /usr/local/lib/python3.6/dist-packages (from requests~=2.21->mplhep) (1.24.3)\n",
            "Requirement already satisfied: idna<3,>=2.5 in /usr/local/lib/python3.6/dist-packages (from requests~=2.21->mplhep) (2.10)\n",
            "Requirement already satisfied: chardet<4,>=3.0.2 in /usr/local/lib/python3.6/dist-packages (from requests~=2.21->mplhep) (3.0.4)\n",
            "Requirement already satisfied: certifi>=2017.4.17 in /usr/local/lib/python3.6/dist-packages (from requests~=2.21->mplhep) (2020.12.5)\n",
            "Requirement already satisfied: six in /usr/local/lib/python3.6/dist-packages (from cycler>=0.10->matplotlib>=3.1->mplhep) (1.15.0)\n",
            "Installing collected packages: mplhep\n",
            "Successfully installed mplhep-0.2.12\n",
            "Requirement already satisfied: awkward in /usr/local/lib/python3.6/dist-packages (0.14.0)\n",
            "Requirement already satisfied: numpy>=1.13.1 in /usr/local/lib/python3.6/dist-packages (from awkward) (1.19.5)\n"
          ],
          "name": "stdout"
        }
      ]
    },
    {
      "cell_type": "code",
      "metadata": {
        "colab": {
          "base_uri": "https://localhost:8080/"
        },
        "id": "7HhcNbQy5PC1",
        "outputId": "8a1a7de6-6ff5-4fcb-845f-4ef4fbf40d2a"
      },
      "source": [
        "from google.colab import drive\r\n",
        "\r\n",
        "drive.mount('/content/drive')"
      ],
      "execution_count": 2,
      "outputs": [
        {
          "output_type": "stream",
          "text": [
            "Mounted at /content/drive\n"
          ],
          "name": "stdout"
        }
      ]
    },
    {
      "cell_type": "code",
      "metadata": {
        "id": "Y8reAiQI5SHe",
        "colab": {
          "base_uri": "https://localhost:8080/"
        },
        "outputId": "55f11a50-6345-46ff-96a1-b59cdceb7cab"
      },
      "source": [
        "import uproot3 as ROOT\r\n",
        "import uproot_methods as upm\r\n",
        "import numpy as np\r\n",
        "import awkward as ak\r\n",
        "import matplotlib.pyplot as plt\r\n",
        "from matplotlib import rc\r\n",
        "from matplotlib import font_manager\r\n",
        "import mplhep as hep\r\n"
      ],
      "execution_count": 3,
      "outputs": [
        {
          "output_type": "stream",
          "text": [
            "/usr/local/lib/python3.6/dist-packages/uproot3/__init__.py:138: FutureWarning: Consider switching from 'uproot3' to 'uproot', since the new interface became the default in 2020.\n",
            "\n",
            "    pip install -U uproot\n",
            "\n",
            "In Python:\n",
            "\n",
            "    >>> import uproot\n",
            "    >>> with uproot.open(...) as file:\n",
            "    ...\n",
            "\n",
            "  FutureWarning\n",
            "/usr/local/lib/python3.6/dist-packages/awkward0/__init__.py:23: FutureWarning: Consider switching from 'awkward0' to 'awkward', since the new interface became the default in 2020.\n",
            "\n",
            "    pip install -U awkward\n",
            "\n",
            "In Python:\n",
            "\n",
            "    >>> import awkward as ak\n",
            "    >>> new_style_array = ak.from_awkward0(old_style_array)\n",
            "    >>> old_style_array = ak.to_awkward0(new_style_array)\n",
            "\n",
            "  FutureWarning\n"
          ],
          "name": "stderr"
        }
      ]
    },
    {
      "cell_type": "code",
      "metadata": {
        "id": "nui34-2OvU5-"
      },
      "source": [
        "## 리딩 투젯 마스크\r\n",
        "def jet_ht_cut(data,nb):\r\n",
        "  globals()['jet_mask{}'.format(nb)] = np.zeros(data.shape)\r\n",
        "  for i in range(0,len(data)):\r\n",
        "    if data.counts[i] >= 2:\r\n",
        "     globals()['jet_mask{}'.format(nb)][i] = data[i,0] + data[i,1]"
      ],
      "execution_count": 4,
      "outputs": []
    },
    {
      "cell_type": "code",
      "metadata": {
        "id": "PJWKpSGyvbxu"
      },
      "source": [
        "## 리딩 투렙 마스크\r\n",
        "def lepton_global(data1,data2,phi1,phi2,nb):\r\n",
        "  globals()['lep_mask{}'.format(nb)] = np.zeros(data1.shape)\r\n",
        "  globals()['sub_mask{}'.format(nb)] = np.zeros(data1.shape)\r\n",
        "  globals()['lep_phi{}'.format(nb)] = np.zeros(data1.shape)\r\n",
        "  globals()['sub_phi{}'.format(nb)] = np.zeros(data1.shape)\r\n",
        "  globals()['z_mask{}'.format(nb)] = np.zeros(data1.shape)\r\n",
        "  for i in range(0,len(data1)):\r\n",
        "    if (data1.counts[i] + data2.counts[i] >= 2):\r\n",
        "      if (data1.counts[i] == 0):\r\n",
        "        globals()['lep_mask{}'.format(nb)][i] = data2[i,0]\r\n",
        "        globals()['sub_mask{}'.format(nb)][i] = data2[i,1]\r\n",
        "        globals()['lep_phi{}'.format(nb)][i] = phi2[i,0]\r\n",
        "        globals()['sub_phi{}'.format(nb)][i] = phi2[i,1]\r\n",
        "      elif (data2.counts[i] == 0):\r\n",
        "        globals()['lep_mask{}'.format(nb)][i] = data1[i,0]\r\n",
        "        globals()['sub_mask{}'.format(nb)][i] = data1[i,1]\r\n",
        "        globals()['lep_phi{}'.format(nb)][i] = phi1[i,0]\r\n",
        "        globals()['sub_phi{}'.format(nb)][i] = phi1[i,1]\r\n",
        "      else:\r\n",
        "        if (data1[i,0] > data2[i,0]):\r\n",
        "          globals()['lep_mask{}'.format(nb)][i] = data1[i,0]\r\n",
        "          globals()['sub_mask{}'.format(nb)][i] = data2[i,0]\r\n",
        "          globals()['lep_phi{}'.format(nb)][i] = phi1[i,0]\r\n",
        "          globals()['sub_phi{}'.format(nb)][i] = phi2[i,0]\r\n",
        "        else:\r\n",
        "          globals()['lep_mask{}'.format(nb)][i] = data2[i,0]\r\n",
        "          globals()['sub_mask{}'.format(nb)][i] = data1[i,0]\r\n",
        "          globals()['lep_phi{}'.format(nb)][i] = phi2[i,0]\r\n",
        "          globals()['sub_phi{}'.format(nb)][i] = phi1[i,0]"
      ],
      "execution_count": 5,
      "outputs": []
    },
    {
      "cell_type": "code",
      "metadata": {
        "id": "NXpN7o5_vwnt"
      },
      "source": [
        "def pt2pxpy(pt1,phi1,pt2,phi2,met,phi3,nb):\r\n",
        "  globals()['lep{}_px'.format(nb)] = pt1 * np.cos(phi1)\r\n",
        "  globals()['lep{}_py'.format(nb)] = pt1 * np.sin(phi1)\r\n",
        "  globals()['sub{}_px'.format(nb)] = pt2 * np.cos(phi2)\r\n",
        "  globals()['sub{}_py'.format(nb)] = pt2 * np.sin(phi2)\r\n",
        "  globals()['MET{}_px'.format(nb)] = met * np.cos(phi3)\r\n",
        "  globals()['MET{}_py'.format(nb)] = met * np.sin(phi3)"
      ],
      "execution_count": 6,
      "outputs": []
    },
    {
      "cell_type": "code",
      "metadata": {
        "id": "7YJzMT3kvde-"
      },
      "source": [
        "def recal_momenta(visApx, visApy, visBpx, visBpy, invpx, invpy):\r\n",
        "  global invVector\r\n",
        "  global visAVector\r\n",
        "  global visBVector\r\n",
        "  invVector = np.array([np.zeros(invpx.shape),invpx,invpy])\r\n",
        "  visAVector = np.array([np.zeros(visApx.shape),visApx,visApy])\r\n",
        "  visBVector = np.array([np.zeros(visBpx.shape),visBpx,visBpy])"
      ],
      "execution_count": 7,
      "outputs": []
    },
    {
      "cell_type": "code",
      "metadata": {
        "id": "bH9tYyB_AH26"
      },
      "source": [
        "def nsols_massless(Dsq):\r\n",
        "  delta = Dsq / (2*Easq)\r\n",
        "  d2 = d21 * delta + d20\r\n",
        "  e2 = e21 * delta + e20\r\n",
        "  f2 = f22 * delta * delta + f21 * delta + f20\r\n",
        "  a = np.ones(delta.shape)\r\n",
        "  b = np.ones(delta.shape)\r\n",
        "\r\n",
        "  for i in range (len(pax)):\r\n",
        "    if (pax[i] > 0):\r\n",
        "      a[i] = Ea[i] / Dsq[i]\r\n",
        "      b[i] = -Dsq[i] / (4 * Ea[i])\r\n",
        "    else:\r\n",
        "      a[i] = -Ea[i] / Dsq[i]\r\n",
        "      b[i] = Dsq[i] / (4 * Ea[i])\r\n",
        "  A4 = a*a*a2\r\n",
        "  A3 = 2*a*b2/Ea\r\n",
        "  A2 = (2*a*a2*b+c2+2*a*d2)/(Easq)\r\n",
        "  A1 = (2*b*b2+2*e2)/(Easq*Ea)\r\n",
        "  A0 = (a2*b*b+2*b*d2+f2)/(Easq*Easq)\r\n",
        "\r\n",
        "  A0sq = A0 * A0\r\n",
        "  A1sq = A1 * A1\r\n",
        "  A2sq = A2 * A2\r\n",
        "  A3sq = A3 * A3\r\n",
        "  A4sq = A4 * A4\r\n",
        "\r\n",
        "  B3 = 4 * A4\r\n",
        "  B2 = 3* A3\r\n",
        "  B1 = 2 * A2\r\n",
        "  B0 = A1\r\n",
        "  C2 = -(A2/2 - 3*A3sq/(16*A4))\r\n",
        "  C1 = -(3*A1/4. -A2*A3/(8*A4))\r\n",
        "  C0 = -A0 + A1*A3/(16*A4)\r\n",
        "  D1 = -B1 - (B3*C1*C1/C2 - B3*C0 -B2*C1)/C2\r\n",
        "  D0 = -B0 -B3 * C0 * C1 / (C2*C2) + B2*C0/C2\r\n",
        "  E0 = -C0 - C2 * D0 * D0 / (D1 * D1) + C1 * D0 / D1\r\n",
        "\r\n",
        "  t1 = A4\r\n",
        "  t2 = A4\r\n",
        "  t3 = C2\r\n",
        "  t4 = D1\r\n",
        "  t5 = E0\r\n",
        "  nsol = signchange_n(t1,t2,t3,t4,t5) - signchange_p(t1,t2,t3,t4,t5)\r\n",
        "  return nsol"
      ],
      "execution_count": 8,
      "outputs": []
    },
    {
      "cell_type": "code",
      "metadata": {
        "id": "zoMl8Jw0b2rX"
      },
      "source": [
        "def signchange_n(t1,t2,t3,t4,t5):\r\n",
        "  nsc = np.zeros(t1.shape)\r\n",
        "  for i in range(len(t1)):\r\n",
        "    if (t1[i] * t2[i] > 0):\r\n",
        "      nsc[i] += 1\r\n",
        "    if (t2[i] * t3[i] > 0):\r\n",
        "      nsc[i] += 1\r\n",
        "    if (t3[i] * t4[i] > 0):\r\n",
        "      nsc[i] += 1\r\n",
        "    if (t4[i] * t5[i] > 0):\r\n",
        "      nsc[i] += 1\r\n",
        "    return nsc\r\n",
        "\r\n",
        "\r\n",
        "def signchange_p(t1,t2,t3,t4,t5):\r\n",
        "  nsc = np.zeros(t1.shape)\r\n",
        "  for i in range(len(t1)):\r\n",
        "    if (t1[i] * t2[i] < 0):\r\n",
        "      nsc[i] += 1\r\n",
        "    if (t2[i] * t3[i] < 0):\r\n",
        "      nsc[i] += 1\r\n",
        "    if (t3[i] * t4[i] < 0):\r\n",
        "      nsc[i] += 1\r\n",
        "    if (t4[i] * t5[i] < 0):\r\n",
        "      nsc[i] += 1\r\n",
        "    return nsc"
      ],
      "execution_count": 9,
      "outputs": []
    },
    {
      "cell_type": "code",
      "metadata": {
        "id": "92onH9GFvguH"
      },
      "source": [
        "dat1 = ROOT.open(\"/content/drive/MyDrive/Event_Sample/pow_delph_nlo.root\")[\"Delphes\"]"
      ],
      "execution_count": 10,
      "outputs": []
    },
    {
      "cell_type": "code",
      "metadata": {
        "id": "GdhLfkDKvltF"
      },
      "source": [
        "MET1_arr, Elec1_PT_arr, Muon1_PT_arr, Jet1_PT_arr = dat1.arrays(['MissingET.MET', 'Electron.PT', 'Muon.PT', 'Jet.PT'],outputtype=tuple)\r\n",
        "Lepton_Mass_arr = np.zeros(Elec1_PT_arr.shape)\r\n",
        "Elec1_Eta_arr, Elec1_Phi_arr, Muon1_Eta_arr, Muon1_Phi_arr = dat1.arrays(['Electron.Eta', 'Electron.Phi', 'Muon.Eta', 'Muon.Phi'],outputtype=tuple)\r\n",
        "MET1_Eta_arr, MET1_Phi_arr = dat1.arrays(['MissingET.Eta', 'MissingET.Phi'],outputtype=tuple)\r\n",
        "\r\n",
        "lepton_global(Elec1_PT_arr,Muon1_PT_arr,Elec1_Phi_arr,Muon1_Phi_arr,1)"
      ],
      "execution_count": 11,
      "outputs": []
    },
    {
      "cell_type": "code",
      "metadata": {
        "id": "nKnvwLVXvoxS"
      },
      "source": [
        "pt2pxpy(lep_mask1,lep_phi1,sub_mask1,sub_phi1,MET1_arr,MET1_Phi_arr,1)\r\n",
        "recal_momenta(lep1_px,lep1_py,sub1_px,sub1_py,MET1_px,MET1_py)"
      ],
      "execution_count": 12,
      "outputs": []
    },
    {
      "cell_type": "code",
      "metadata": {
        "id": "fYFrY0ZwvzL0"
      },
      "source": [
        "pax = visAVector[1]\r\n",
        "pay = visAVector[2]\r\n",
        "pbx = visBVector[1]\r\n",
        "pby = visBVector[2]\r\n",
        "pmissx = invVector[1]\r\n",
        "pmissy = invVector[2]"
      ],
      "execution_count": 13,
      "outputs": []
    },
    {
      "cell_type": "code",
      "metadata": {
        "id": "aKY_uXJUuT0p"
      },
      "source": [
        "## 데이터 전처리, 0인 놈들은 다 걸러냅니다.\r\n",
        "test_pax = []\r\n",
        "test_pay = []\r\n",
        "test_pbx = []\r\n",
        "test_pby = []\r\n",
        "test_pmissx = []\r\n",
        "test_pmissy = []"
      ],
      "execution_count": 14,
      "outputs": []
    },
    {
      "cell_type": "code",
      "metadata": {
        "id": "GREZyVi-u7Zo"
      },
      "source": [
        "for i in range(len(pax)):\r\n",
        "  if pax[i] == 0:\r\n",
        "    continue\r\n",
        "  else:\r\n",
        "    test_pax.append(pax[i])\r\n",
        "    test_pay.append(pay[i])\r\n",
        "    test_pbx.append(pax[i])\r\n",
        "    test_pby.append(pbx[i])\r\n",
        "    test_pmissx.append(pmissx[i])\r\n",
        "    test_pmissy.append(pmissy[i])"
      ],
      "execution_count": 15,
      "outputs": []
    },
    {
      "cell_type": "code",
      "metadata": {
        "id": "ctAWV5eyxYs4"
      },
      "source": [
        "  pax = np.array(test_pax)\r\n",
        "  pay = np.array(test_pay)\r\n",
        "  pbx = np.array(test_pbx)\r\n",
        "  pby = np.array(test_pby)\r\n",
        "  pmissx = np.array(test_pmissx).flatten()\r\n",
        "  pmissy = np.array(test_pmissy).flatten()"
      ],
      "execution_count": 16,
      "outputs": []
    },
    {
      "cell_type": "code",
      "metadata": {
        "colab": {
          "base_uri": "https://localhost:8080/"
        },
        "id": "-pXtwvWmvq0f",
        "outputId": "c05b5764-6635-4953-d59b-ed9abfe6a8dd"
      },
      "source": [
        "masq = np.zeros(pax.shape)\r\n",
        "Easq = pax * pax + pay * pay\r\n",
        "Ea = np.sqrt(Easq)\r\n",
        "mbsq = np.zeros(pax.shape)\r\n",
        "Ebsq = pbx * pbx + pby * pby\r\n",
        "Eb = np.sqrt(Ebsq)\r\n",
        "print(Ea)\r\n",
        "print(Eb)"
      ],
      "execution_count": 18,
      "outputs": [
        {
          "output_type": "stream",
          "text": [
            "[42.032547   57.68159485 57.44906998 ... 98.1830368  44.80603027\n",
            " 94.9133606 ]\n",
            "[55.38656058 45.55608257 51.59017273 ... 75.67892904 49.72113599\n",
            " 84.55413235]\n"
          ],
          "name": "stdout"
        }
      ]
    },
    {
      "cell_type": "code",
      "metadata": {
        "colab": {
          "base_uri": "https://localhost:8080/"
        },
        "id": "--vo21xSvqLc",
        "outputId": "fdf7ccdd-ce9c-4ca1-aeb2-47f417d78e6d"
      },
      "source": [
        "pmissxsq = pmissx * pmissx\r\n",
        "pmissysq = pmissy * pmissy\r\n",
        "scale = np.ones(pax.shape)\r\n",
        "metsq = (pmissxsq + pmissysq) ** 0.5\r\n",
        "print(pmissx)\r\n",
        "print(pmissy)\r\n",
        "print(scale)"
      ],
      "execution_count": 19,
      "outputs": [
        {
          "output_type": "stream",
          "text": [
            "[-12.557408    9.965473   24.436743  ...  -7.2176943  60.202053\n",
            "  26.208673 ]\n",
            "[ -9.992616  58.96439   -9.517323 ...  48.073586  17.921638 140.14117 ]\n",
            "[1. 1. 1. ... 1. 1. 1.]\n"
          ],
          "name": "stdout"
        }
      ]
    },
    {
      "cell_type": "code",
      "metadata": {
        "colab": {
          "base_uri": "https://localhost:8080/"
        },
        "id": "kIeUSG7Kvez0",
        "outputId": "b2e5591f-1653-4d6b-f0b0-327dc8e2bf4b"
      },
      "source": [
        "for i in range(len(Ea)):\r\n",
        "  if (Ea[i] > Eb[i]):\r\n",
        "    scale[i] = Ea[i] / 100\r\n",
        "  elif (Ea[i] < Eb[i]):\r\n",
        "    scale[i] = Eb[i] / 100\r\n",
        "  if Ea[i] == 0:\r\n",
        "    scale[i] = 1\r\n",
        "  if ((metsq / 100)[i] > scale[i]):\r\n",
        "    scale[i] = metsq[i] / 100\r\n",
        "\r\n",
        "scalesq = scale * scale\r\n",
        "print(scale)"
      ],
      "execution_count": 20,
      "outputs": [
        {
          "output_type": "stream",
          "text": [
            "[0.55386561 0.59800583 0.5744907  ... 0.98183037 0.62812992 1.42570831]\n"
          ],
          "name": "stdout"
        }
      ]
    },
    {
      "cell_type": "code",
      "metadata": {
        "id": "tRVOOekg0Bdj"
      },
      "source": [
        "pax /= scale\r\n",
        "pay /= scale\r\n",
        "pbx /= scale\r\n",
        "pby /= scale\r\n",
        "Ea /= scale\r\n",
        "Eb /= scale\r\n",
        "Easq /= scalesq\r\n",
        "Ebsq /= scalesq\r\n",
        "\r\n",
        "pmissx /= scale\r\n",
        "pmissy /= scale\r\n",
        "pmissxsq /= scalesq\r\n",
        "pmissysq /= scalesq\r\n",
        "precision = np.ones(pax.shape) * 0.001"
      ],
      "execution_count": 21,
      "outputs": []
    },
    {
      "cell_type": "code",
      "metadata": {
        "colab": {
          "base_uri": "https://localhost:8080/"
        },
        "id": "1ShXQ8_i4k2y",
        "outputId": "95f36b1e-4556-4f84-b062-66720a146299"
      },
      "source": [
        "print(pax,pay)\r\n",
        "print(pbx,pby)\r\n",
        "print(pmissx)"
      ],
      "execution_count": 22,
      "outputs": [
        {
          "output_type": "stream",
          "text": [
            "[ 75.56763227 -75.14064098  75.4048063  ...  69.84550846  41.92388034\n",
            "  58.52650738] [  6.98133601  60.47937814 -65.68192436 ... -71.56538932 -57.71224365\n",
            " -31.72668402]\n",
            "[ 75.56763227 -75.14064098  75.4048063  ...  69.84550846  41.92388034\n",
            "  58.52650738] [ 65.49452613  12.54097678  48.76924255 ... -32.60128972  67.14375166\n",
            "   9.58848353]\n",
            "[-22.672302  16.664509  42.536358 ...  -7.351264  95.843315  18.382914]\n"
          ],
          "name": "stdout"
        }
      ]
    },
    {
      "cell_type": "code",
      "metadata": {
        "colab": {
          "base_uri": "https://localhost:8080/"
        },
        "id": "LlBLF2Nu4t6Z",
        "outputId": "517b1642-1611-4fa4-e7d4-6865ac7a70f2"
      },
      "source": [
        "theta = np.zeros(pax.shape)\r\n",
        "for i in range(len(theta)):\r\n",
        "  if pax[i] != 0:\r\n",
        "    theta[i] = np.arctan(pay[i]/pax[i])\r\n",
        "\r\n",
        "print(theta)"
      ],
      "execution_count": 23,
      "outputs": [
        {
          "output_type": "stream",
          "text": [
            "[ 0.09212377 -0.67771092 -0.71659273 ... -0.79755986 -0.94255173\n",
            " -0.49675065]\n"
          ],
          "name": "stdout"
        }
      ]
    },
    {
      "cell_type": "code",
      "metadata": {
        "colab": {
          "base_uri": "https://localhost:8080/"
        },
        "id": "ykne3ERwhYxS",
        "outputId": "891fe627-8354-44b2-b317-c179770e21cb"
      },
      "source": [
        "## 로테이션\r\n",
        "s = np.sin(theta)\r\n",
        "c = np.cos(theta)\r\n",
        "pxtemp = pax * c + pay * s\r\n",
        "pax = pxtemp\r\n",
        "pay = np.zeros(pax.shape)\r\n",
        "pxtemp = pbx * c + pby * s\r\n",
        "pytemp = -s * pmissx + c * pmissy\r\n",
        "pbx = pxtemp\r\n",
        "pby = pytemp\r\n",
        "pxtemp = pmissx * c + pmissy * s\r\n",
        "pytemp = -s * pmissx + c * pmissy\r\n",
        "pmissx = pxtemp\r\n",
        "pmissy = pytemp\r\n",
        "\r\n",
        "print(pax)\r\n",
        "print(pay)\r\n",
        "print(pbx)\r\n",
        "print(pby)\r\n",
        "print(pmissx)\r\n",
        "print(pmissy)"
      ],
      "execution_count": 24,
      "outputs": [
        {
          "output_type": "stream",
          "text": [
            "[ 75.88943338 -96.45657628 100.         ... 100.          71.33242468\n",
            "  66.5727763 ]\n",
            "[0. 0. 0. ... 0. 0. 0.]\n",
            "[ 81.27226763 -66.39864954  24.82627113 ...  72.11519043 -29.68362316\n",
            "  46.88314732]\n",
            "[-15.87938142  87.26055166  15.44673119 ...  28.93765634  94.31186402\n",
            "  95.1761426 ]\n",
            "[-24.23587207 -48.84257556  42.95568038 ... -40.17525399  33.24565306\n",
            " -30.68390527]\n",
            "[-15.87938142  87.26055166  15.44673119 ...  28.93765634  94.31186402\n",
            "  95.1761426 ]\n"
          ],
          "name": "stdout"
        }
      ]
    },
    {
      "cell_type": "code",
      "metadata": {
        "id": "jRmC2CA-htKf",
        "colab": {
          "base_uri": "https://localhost:8080/"
        },
        "outputId": "58844f94-994a-4661-91c0-bb3ee61d15df"
      },
      "source": [
        "a2 = 1 - pbx * pbx / (Ebsq)\r\n",
        "b2 = -pbx * pby/(Ebsq)\r\n",
        "c2 = 1 - pby * pby / (Ebsq)\r\n",
        "print(a2,b2,c2)"
      ],
      "execution_count": 25,
      "outputs": [
        {
          "output_type": "stream",
          "text": [
            "[0.33948185 0.24030969 0.92357155 ... 0.1246606  0.85937883 0.37507887] [ 0.12905533  0.99837867 -0.04755324 ... -0.35124737  0.44678658\n",
            " -1.26863459] [ 0.97478452 -0.31206092  0.97041271 ...  0.859055   -0.41954621\n",
            " -1.57541895]\n"
          ],
          "name": "stdout"
        }
      ]
    },
    {
      "cell_type": "code",
      "metadata": {
        "colab": {
          "base_uri": "https://localhost:8080/"
        },
        "id": "thuDUlXnwsoE",
        "outputId": "33e04277-9c25-4822-a310-48caa344ffe3"
      },
      "source": [
        "d21 = (Easq * pbx) / Ebsq\r\n",
        "d20 = - pmissx + (pbx*(pbx * pmissx + pby *pmissy)) / Ebsq\r\n",
        "e21 = (Easq * pby) / Ebsq\r\n",
        "e20 = -pmissy + (pby * (pbx * pmissx + pby * pmissy)) / Ebsq\r\n",
        "f22 = -(Easq * Easq / Ebsq)\r\n",
        "f21 = -2 * Easq * (pbx * pmissx + pby * pmissy) / Ebsq\r\n",
        "f20 = 0.0 + pmissxsq + pmissysq - (pbx * pmissx + pby * pmissy) * (pbx * pmissx + pby * pmissy) / Ebsq\r\n",
        "print(f21,f20)"
      ],
      "execution_count": 26,
      "outputs": [
        {
          "output_type": "stream",
          "text": [
            "[  1978.34434191 -34812.96452986  -3236.55373763 ...   6934.10276007\n",
            " -12843.42078821 -19202.88928684] [   544.5345889  -10313.11565371   1872.60210902 ...   1737.27532102\n",
            "     19.86059034  -6508.01195184]\n"
          ],
          "name": "stdout"
        }
      ]
    },
    {
      "cell_type": "code",
      "metadata": {
        "colab": {
          "base_uri": "https://localhost:8080/"
        },
        "id": "Xq6mNQBly855",
        "outputId": "b3706fe7-2402-4e00-d5b2-9439e08ea971"
      },
      "source": [
        "Deltasq0 = 0.0\r\n",
        "Deltasq_low = Deltasq0 + precision\r\n",
        "nsols_low = nsols_massless(Deltasq_low)\r\n",
        "print(nsols_low)"
      ],
      "execution_count": 27,
      "outputs": [
        {
          "output_type": "stream",
          "text": [
            "[0. 0. 0. ... 0. 0. 0.]\n"
          ],
          "name": "stdout"
        }
      ]
    },
    {
      "cell_type": "code",
      "metadata": {
        "id": "_5KOWdHzdgb-"
      },
      "source": [
        "mt2_b = np.ones(nsols_low.shape)\r\n",
        "\r\n",
        "for i in range(len(mt2_b)):\r\n",
        "  if (nsols_low[i] > 1):\r\n",
        "    mt2_b[i] = 0"
      ],
      "execution_count": 28,
      "outputs": []
    },
    {
      "cell_type": "code",
      "metadata": {
        "id": "O7cXD1420bEP"
      },
      "source": [
        "Deltasq_high1 = 2 * Eb * (pmissx*pmissx + pmissy*pmissy)**0.5 -2 * pbx * pmissx -2 *pby * pmissy\r\n",
        "Deltasq_high2 = np.zeros(Deltasq_high1.shape)\r\n",
        "Deltasq_high = Deltasq_high1"
      ],
      "execution_count": 29,
      "outputs": []
    },
    {
      "cell_type": "code",
      "metadata": {
        "colab": {
          "base_uri": "https://localhost:8080/"
        },
        "id": "RQY7AvOCkyei",
        "outputId": "b48b064b-5458-488a-c449-75386de97edc"
      },
      "source": [
        "for i in range(len(Deltasq_high)):\r\n",
        "  if (Deltasq_high1[i] < Deltasq_high2[i]):\r\n",
        "    Deltasq_high[i] = Deltasq_high2[i]\r\n",
        "\r\n",
        "nsols_high = nsols_massless(Deltasq_high)"
      ],
      "execution_count": 30,
      "outputs": [
        {
          "output_type": "stream",
          "text": [
            "/usr/local/lib/python3.6/dist-packages/ipykernel_launcher.py:14: RuntimeWarning: divide by zero encountered in double_scalars\n",
            "  \n",
            "/usr/local/lib/python3.6/dist-packages/ipykernel_launcher.py:11: RuntimeWarning: divide by zero encountered in double_scalars\n",
            "  # This is added back by InteractiveShellApp.init_path()\n",
            "/usr/local/lib/python3.6/dist-packages/ipykernel_launcher.py:18: RuntimeWarning: invalid value encountered in multiply\n",
            "/usr/local/lib/python3.6/dist-packages/ipykernel_launcher.py:32: RuntimeWarning: invalid value encountered in true_divide\n",
            "/usr/local/lib/python3.6/dist-packages/ipykernel_launcher.py:34: RuntimeWarning: invalid value encountered in true_divide\n"
          ],
          "name": "stderr"
        }
      ]
    },
    {
      "cell_type": "code",
      "metadata": {
        "colab": {
          "base_uri": "https://localhost:8080/"
        },
        "id": "KKcB2yk91Hof",
        "outputId": "1e8a988f-8a0a-4de4-e400-04e70bc23a80"
      },
      "source": [
        "print(nsols_low)\r\n",
        "print(nsols_high)\r\n",
        "print(Deltasq_high)"
      ],
      "execution_count": 31,
      "outputs": [
        {
          "output_type": "stream",
          "text": [
            "[0. 0. 0. ... 0. 0. 0.]\n",
            "[2. 0. 0. ... 0. 0. 0.]\n",
            "[ 9230.03563411     0.          5588.56578416 ... 11752.43145801\n",
            "    15.72984701     0.        ]\n"
          ],
          "name": "stdout"
        }
      ]
    },
    {
      "cell_type": "code",
      "metadata": {
        "colab": {
          "base_uri": "https://localhost:8080/"
        },
        "id": "Kb0ueHeb0bPP",
        "outputId": "3f1db15f-1604-4982-e4d5-96eefa805220"
      },
      "source": [
        "minmass = np.zeros(nsols_high.shape)\r\n",
        "maxmass = minmass\r\n",
        "print(type(maxmass))\r\n",
        "print(type(Deltasq_high))"
      ],
      "execution_count": 32,
      "outputs": [
        {
          "output_type": "stream",
          "text": [
            "<class 'numpy.ndarray'>\n",
            "<class 'numpy.ndarray'>\n"
          ],
          "name": "stdout"
        }
      ]
    },
    {
      "cell_type": "code",
      "metadata": {
        "id": "f6cXeGaroLuP"
      },
      "source": [
        "for i in range(len(nsols_high)):\r\n",
        "  if (nsols_high[i] == nsols_low[i]):\r\n",
        "    foundhigh=0\r\n",
        "    #minmass = np.zeros(nsols_high.shape) # mn\r\n",
        "    maxmass[i] = Deltasq_high[i]**0.5\r\n",
        "\r\n",
        "    for mass in range(0,int(maxmass[i]*10)):\r\n",
        "      Deltasq_high[i] = mass*mass/100 - 0 #mnsq\r\n",
        "      if (nsols_high[i]>0):\r\n",
        "        foundhigh=1\r\n",
        "        Deltasq_low[i] = (mass-0.1)*(mass-0.1) - 0 #mnsq\r\n",
        "    if foundhigh==0:\r\n",
        "      mt2_b[i] = np.sqrt(Deltasq_low[i]+0) #mnsq\r\n",
        "    \r\n",
        "    if (nsols_high[i] == nsols_low[i]):\r\n",
        "      mt2_b[i] =  np.sqrt(Deltasq_low[i])\r\n"
      ],
      "execution_count": 33,
      "outputs": []
    },
    {
      "cell_type": "code",
      "metadata": {
        "colab": {
          "base_uri": "https://localhost:8080/"
        },
        "id": "kjS9fA1X3rQF",
        "outputId": "b90351cb-1c02-4786-d519-58cc52a1e07b"
      },
      "source": [
        "print(mt2_b)"
      ],
      "execution_count": 34,
      "outputs": [
        {
          "output_type": "stream",
          "text": [
            "[1.         0.03162278 0.03162278 ... 0.03162278 0.03162278 0.03162278]\n"
          ],
          "name": "stdout"
        }
      ]
    },
    {
      "cell_type": "code",
      "metadata": {
        "colab": {
          "base_uri": "https://localhost:8080/"
        },
        "id": "FtYgoebq22AF",
        "outputId": "3916c676-c111-4ce6-d548-47a48332f6e1"
      },
      "source": [
        "minmass = Deltasq_low ** 0.5\r\n",
        "maxmass = Deltasq_high ** 0.5\r\n",
        "print(minmass)\r\n",
        "print(maxmass)"
      ],
      "execution_count": 35,
      "outputs": [
        {
          "output_type": "stream",
          "text": [
            "[0.03162278 0.03162278 0.03162278 ... 0.03162278 0.03162278 0.03162278]\n",
            "[ 96.07307445   0.          74.6        ... 108.3          3.8\n",
            "   0.        ]\n"
          ],
          "name": "stdout"
        }
      ]
    },
    {
      "cell_type": "code",
      "metadata": {
        "colab": {
          "base_uri": "https://localhost:8080/"
        },
        "id": "zOTm9DGA3mjF",
        "outputId": "6d024ea3-e3df-4a7e-959b-a9f2948ffee0"
      },
      "source": [
        "## 본게임 코드\r\n",
        "midmass = np.zeros(maxmass.shape)\r\n",
        "Delta_mid = np.zeros(maxmass.shape)\r\n",
        "nsols_mid = np.zeros(maxmass.shape)\r\n",
        "cnt = 0\r\n",
        "for i in range(len(maxmass)):\r\n",
        "  while (maxmass[i] -minmass[i] > precision[i]):\r\n",
        "    midmass[i] = (minmass[i]+maxmass[i])/2.\r\n",
        "    Delta_mid[i] = midmass[i] * midmass[i] - 0 #mnsq\r\n",
        "    nsols_mid = nsols_massless(Delta_mid)\r\n",
        "    if (nsols_mid[i] != nsols_low[i]):\r\n",
        "      maxmass[i] = midmass[i]\r\n",
        "    if (nsols_mid[i] == nsols_low[i]):\r\n",
        "      minmass[i] = midmass[i]\r\n",
        "  mt2_b[i] = minmass[i]\r\n",
        "  cnt+=1\r\n",
        "  if (cnt % 50 == 0 ):\r\n",
        "    print(\"running\",cnt)"
      ],
      "execution_count": 38,
      "outputs": [
        {
          "output_type": "stream",
          "text": [
            "running 50\n"
          ],
          "name": "stdout"
        },
        {
          "output_type": "stream",
          "text": [
            "/usr/local/lib/python3.6/dist-packages/ipykernel_launcher.py:11: RuntimeWarning: divide by zero encountered in double_scalars\n",
            "  # This is added back by InteractiveShellApp.init_path()\n",
            "/usr/local/lib/python3.6/dist-packages/ipykernel_launcher.py:14: RuntimeWarning: divide by zero encountered in double_scalars\n",
            "  \n",
            "/usr/local/lib/python3.6/dist-packages/ipykernel_launcher.py:18: RuntimeWarning: invalid value encountered in multiply\n",
            "/usr/local/lib/python3.6/dist-packages/ipykernel_launcher.py:32: RuntimeWarning: invalid value encountered in true_divide\n",
            "/usr/local/lib/python3.6/dist-packages/ipykernel_launcher.py:34: RuntimeWarning: invalid value encountered in true_divide\n"
          ],
          "name": "stderr"
        },
        {
          "output_type": "stream",
          "text": [
            "running 100\n",
            "running 150\n",
            "running 200\n",
            "running 250\n",
            "running 300\n",
            "running 350\n",
            "running 400\n",
            "running 450\n",
            "running 500\n",
            "running 550\n",
            "running 600\n",
            "running 650\n",
            "running 700\n",
            "running 750\n",
            "running 800\n",
            "running 850\n",
            "running 900\n",
            "running 950\n",
            "running 1000\n",
            "running 1050\n",
            "running 1100\n",
            "running 1150\n",
            "running 1200\n",
            "running 1250\n",
            "running 1300\n",
            "running 1350\n",
            "running 1400\n",
            "running 1450\n",
            "running 1500\n",
            "running 1550\n",
            "running 1600\n",
            "running 1650\n",
            "running 1700\n",
            "running 1750\n",
            "running 1800\n",
            "running 1850\n",
            "running 1900\n",
            "running 1950\n",
            "running 2000\n",
            "running 2050\n",
            "running 2100\n",
            "running 2150\n",
            "running 2200\n",
            "running 2250\n",
            "running 2300\n",
            "running 2350\n",
            "running 2400\n",
            "running 2450\n",
            "running 2500\n",
            "running 2550\n",
            "running 2600\n",
            "running 2650\n",
            "running 2700\n",
            "running 2750\n",
            "running 2800\n",
            "running 2850\n",
            "running 2900\n",
            "running 2950\n",
            "running 3000\n",
            "running 3050\n",
            "running 3100\n",
            "running 3150\n",
            "running 3200\n",
            "running 3250\n",
            "running 3300\n",
            "running 3350\n",
            "running 3400\n",
            "running 3450\n",
            "running 3500\n",
            "running 3550\n",
            "running 3600\n",
            "running 3650\n",
            "running 3700\n",
            "running 3750\n",
            "running 3800\n",
            "running 3850\n"
          ],
          "name": "stdout"
        }
      ]
    },
    {
      "cell_type": "code",
      "metadata": {
        "colab": {
          "base_uri": "https://localhost:8080/",
          "height": 672
        },
        "id": "MTRMszZ21DvF",
        "outputId": "6a547e4a-8616-4dcf-f429-98d5c88320a9"
      },
      "source": [
        "## 그림그리기\r\n",
        "plt.style.use(hep.style.CMS)\r\n",
        "plt.hist(mt2_b, bins=20,color='lightblue',label='tt~')\r\n",
        "plt.hist(mt2_b,bins=20,color = 'black',histtype='step')\r\n",
        "plt.xlim(0,200)\r\n",
        "plt.xlabel(\"$M$$_{T2}$ [GeV]\",fontsize=20)\r\n",
        "plt.ylabel(\"Events | 10 GeV\",fontsize=20)\r\n",
        "plt.legend()\r\n",
        "plt.yscale('log')\r\n",
        "plt.title(\"$\\sqrt{s} = 13$ TeV\", loc='left',fontsize=20)\r\n",
        "plt.show()"
      ],
      "execution_count": 39,
      "outputs": [
        {
          "output_type": "stream",
          "text": [
            "findfont: Font family ['cursive'] not found. Falling back to DejaVu Sans.\n"
          ],
          "name": "stderr"
        },
        {
          "output_type": "display_data",
          "data": {
            "image/png": "[encoded data removed]",
            "text/plain": [
              "<Figure size 720x720 with 1 Axes>"
            ]
          },
          "metadata": {
            "tags": [],
            "needs_background": "light"
          }
        }
      ]
    },
    {
      "cell_type": "code",
      "metadata": {
        "id": "SO84-GtqTTaz"
      },
      "source": [
        "### 과제1 : 질량이 있는 \"b jet\"을 고려한 코드 생성 (현재는 massless daughter만 고려)\r\n",
        "### 과제2 : 모듈화와 경량화(현재 너무 느리다. 특히 for if while 3중구조를 회피할 수 있는 방안 착안)\r\n",
        "### 과제3 : 암흑물질 신호사건에 mn을 고려하는지? 고려한다면 컷이 달라지는데?\r\n",
        "### 과제4 : 이 결과를 컷으로 적용하기 위한 마스크 착안"
      ],
      "execution_count": 40,
      "outputs": []
    },
    {
      "cell_type": "code",
      "metadata": {
        "id": "uO53MCyCVJ8E"
      },
      "source": [
        ""
      ],
      "execution_count": null,
      "outputs": []
    }
  ]
}